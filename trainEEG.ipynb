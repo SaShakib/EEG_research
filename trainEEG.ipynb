{
 "cells": [
  {
   "cell_type": "code",
   "execution_count": 3,
   "metadata": {},
   "outputs": [
    {
     "data": {
      "text/html": [
       "<div>\n",
       "<style scoped>\n",
       "    .dataframe tbody tr th:only-of-type {\n",
       "        vertical-align: middle;\n",
       "    }\n",
       "\n",
       "    .dataframe tbody tr th {\n",
       "        vertical-align: top;\n",
       "    }\n",
       "\n",
       "    .dataframe thead th {\n",
       "        text-align: right;\n",
       "    }\n",
       "</style>\n",
       "<table border=\"1\" class=\"dataframe\">\n",
       "  <thead>\n",
       "    <tr style=\"text-align: right;\">\n",
       "      <th></th>\n",
       "      <th>Time</th>\n",
       "      <th>STATUS</th>\n",
       "      <th>CH1</th>\n",
       "      <th>CH2</th>\n",
       "      <th>CH3</th>\n",
       "      <th>CH4</th>\n",
       "      <th>CH5</th>\n",
       "      <th>CH6</th>\n",
       "      <th>CH7</th>\n",
       "      <th>CH8</th>\n",
       "    </tr>\n",
       "  </thead>\n",
       "  <tbody>\n",
       "    <tr>\n",
       "      <th>0</th>\n",
       "      <td>57.120</td>\n",
       "      <td>12582912</td>\n",
       "      <td>-36</td>\n",
       "      <td>163</td>\n",
       "      <td>14</td>\n",
       "      <td>-16</td>\n",
       "      <td>16350</td>\n",
       "      <td>-2217</td>\n",
       "      <td>-891</td>\n",
       "      <td>127</td>\n",
       "    </tr>\n",
       "    <tr>\n",
       "      <th>1</th>\n",
       "      <td>57.124</td>\n",
       "      <td>12582912</td>\n",
       "      <td>13</td>\n",
       "      <td>213</td>\n",
       "      <td>-4</td>\n",
       "      <td>8</td>\n",
       "      <td>1474</td>\n",
       "      <td>-2183</td>\n",
       "      <td>-193</td>\n",
       "      <td>117</td>\n",
       "    </tr>\n",
       "    <tr>\n",
       "      <th>2</th>\n",
       "      <td>57.128</td>\n",
       "      <td>12582912</td>\n",
       "      <td>95</td>\n",
       "      <td>-15</td>\n",
       "      <td>-24</td>\n",
       "      <td>39</td>\n",
       "      <td>-14892</td>\n",
       "      <td>704</td>\n",
       "      <td>-786</td>\n",
       "      <td>-38</td>\n",
       "    </tr>\n",
       "    <tr>\n",
       "      <th>3</th>\n",
       "      <td>57.132</td>\n",
       "      <td>12582912</td>\n",
       "      <td>111</td>\n",
       "      <td>-92</td>\n",
       "      <td>-30</td>\n",
       "      <td>35</td>\n",
       "      <td>-6209</td>\n",
       "      <td>2045</td>\n",
       "      <td>1522</td>\n",
       "      <td>-138</td>\n",
       "    </tr>\n",
       "    <tr>\n",
       "      <th>4</th>\n",
       "      <td>57.136</td>\n",
       "      <td>12582912</td>\n",
       "      <td>57</td>\n",
       "      <td>-16</td>\n",
       "      <td>-5</td>\n",
       "      <td>5</td>\n",
       "      <td>1309</td>\n",
       "      <td>497</td>\n",
       "      <td>106</td>\n",
       "      <td>-35</td>\n",
       "    </tr>\n",
       "  </tbody>\n",
       "</table>\n",
       "</div>"
      ],
      "text/plain": [
       "     Time    STATUS  CH1  CH2  CH3  CH4    CH5   CH6   CH7  CH8\n",
       "0  57.120  12582912  -36  163   14  -16  16350 -2217  -891  127\n",
       "1  57.124  12582912   13  213   -4    8   1474 -2183  -193  117\n",
       "2  57.128  12582912   95  -15  -24   39 -14892   704  -786  -38\n",
       "3  57.132  12582912  111  -92  -30   35  -6209  2045  1522 -138\n",
       "4  57.136  12582912   57  -16   -5    5   1309   497   106  -35"
      ]
     },
     "execution_count": 3,
     "metadata": {},
     "output_type": "execute_result"
    }
   ],
   "source": [
    "import pandas as pd\n",
    "\n",
    "df = pd.read_csv('raweeg.csv')\n",
    "df.head()"
   ]
  },
  {
   "cell_type": "code",
   "execution_count": 6,
   "metadata": {},
   "outputs": [
    {
     "data": {
      "text/html": [
       "<div>\n",
       "<style scoped>\n",
       "    .dataframe tbody tr th:only-of-type {\n",
       "        vertical-align: middle;\n",
       "    }\n",
       "\n",
       "    .dataframe tbody tr th {\n",
       "        vertical-align: top;\n",
       "    }\n",
       "\n",
       "    .dataframe thead th {\n",
       "        text-align: right;\n",
       "    }\n",
       "</style>\n",
       "<table border=\"1\" class=\"dataframe\">\n",
       "  <thead>\n",
       "    <tr style=\"text-align: right;\">\n",
       "      <th></th>\n",
       "      <th>CH1</th>\n",
       "      <th>CH2</th>\n",
       "      <th>CH3</th>\n",
       "      <th>CH4</th>\n",
       "      <th>CH5</th>\n",
       "      <th>CH6</th>\n",
       "      <th>CH7</th>\n",
       "      <th>CH8</th>\n",
       "    </tr>\n",
       "  </thead>\n",
       "  <tbody>\n",
       "    <tr>\n",
       "      <th>0</th>\n",
       "      <td>-36</td>\n",
       "      <td>163</td>\n",
       "      <td>14</td>\n",
       "      <td>-16</td>\n",
       "      <td>16350</td>\n",
       "      <td>-2217</td>\n",
       "      <td>-891</td>\n",
       "      <td>127</td>\n",
       "    </tr>\n",
       "    <tr>\n",
       "      <th>1</th>\n",
       "      <td>13</td>\n",
       "      <td>213</td>\n",
       "      <td>-4</td>\n",
       "      <td>8</td>\n",
       "      <td>1474</td>\n",
       "      <td>-2183</td>\n",
       "      <td>-193</td>\n",
       "      <td>117</td>\n",
       "    </tr>\n",
       "    <tr>\n",
       "      <th>2</th>\n",
       "      <td>95</td>\n",
       "      <td>-15</td>\n",
       "      <td>-24</td>\n",
       "      <td>39</td>\n",
       "      <td>-14892</td>\n",
       "      <td>704</td>\n",
       "      <td>-786</td>\n",
       "      <td>-38</td>\n",
       "    </tr>\n",
       "    <tr>\n",
       "      <th>3</th>\n",
       "      <td>111</td>\n",
       "      <td>-92</td>\n",
       "      <td>-30</td>\n",
       "      <td>35</td>\n",
       "      <td>-6209</td>\n",
       "      <td>2045</td>\n",
       "      <td>1522</td>\n",
       "      <td>-138</td>\n",
       "    </tr>\n",
       "    <tr>\n",
       "      <th>4</th>\n",
       "      <td>57</td>\n",
       "      <td>-16</td>\n",
       "      <td>-5</td>\n",
       "      <td>5</td>\n",
       "      <td>1309</td>\n",
       "      <td>497</td>\n",
       "      <td>106</td>\n",
       "      <td>-35</td>\n",
       "    </tr>\n",
       "  </tbody>\n",
       "</table>\n",
       "</div>"
      ],
      "text/plain": [
       "   CH1  CH2  CH3  CH4    CH5   CH6   CH7  CH8\n",
       "0  -36  163   14  -16  16350 -2217  -891  127\n",
       "1   13  213   -4    8   1474 -2183  -193  117\n",
       "2   95  -15  -24   39 -14892   704  -786  -38\n",
       "3  111  -92  -30   35  -6209  2045  1522 -138\n",
       "4   57  -16   -5    5   1309   497   106  -35"
      ]
     },
     "execution_count": 6,
     "metadata": {},
     "output_type": "execute_result"
    }
   ],
   "source": [
    "df = df.drop(columns=['Time','STATUS'])\n",
    "df.head()"
   ]
  },
  {
   "cell_type": "code",
   "execution_count": 8,
   "metadata": {},
   "outputs": [
    {
     "data": {
      "image/png": "[encoded data removed]",
      "text/plain": [
       "<Figure size 640x480 with 1 Axes>"
      ]
     },
     "metadata": {},
     "output_type": "display_data"
    }
   ],
   "source": [
    "from sklearn.cluster import KMeans\n",
    "import matplotlib.pyplot as plt\n",
    "\n",
    "# Assuming X contains your data\n",
    "# Replace X with your actual data matrix\n",
    "\n",
    "# Calculate inertia for different values of k\n",
    "inertia = []\n",
    "for k in range(1, 11):\n",
    "    kmeans = KMeans(n_clusters=k, random_state=42)\n",
    "    kmeans.fit(df)\n",
    "    inertia.append(kmeans.inertia_)\n",
    "\n",
    "# Plot the inertia as a function of k\n",
    "plt.plot(range(1, 11), inertia, marker='o', linestyle='-')\n",
    "plt.title('Elbow Method')\n",
    "plt.xlabel('Number of Clusters (k)')\n",
    "plt.ylabel('Inertia')\n",
    "plt.xticks(range(1, 11))\n",
    "plt.grid(True)\n",
    "plt.show()\n"
   ]
  },
  {
   "cell_type": "code",
   "execution_count": 10,
   "metadata": {},
   "outputs": [
    {
     "name": "stdout",
     "output_type": "stream",
     "text": [
      "Cluster Labels: [0 1 1 ... 0 1 1]\n",
      "Centroids: [[ -106.49644087   147.05809414    23.49965557   -48.6293915\n",
      "  10820.46613088 -1445.70332951 -1828.88863375    29.31595867]\n",
      " [   58.08896439   -81.79627532   -20.99760916    26.67358752\n",
      "  -5928.85856298   792.61155153  1003.64401661   -16.09475274]]\n"
     ]
    }
   ],
   "source": [
    "from sklearn.cluster import KMeans\n",
    "\n",
    "# Assuming X contains your data\n",
    "# Replace X with your actual data matrix\n",
    "\n",
    "# Initialize KMeans with the number of clusters you want to create\n",
    "kmeans = KMeans(n_clusters=2, random_state=42)\n",
    "\n",
    "# Fit KMeans to the data\n",
    "kmeans.fit(df)\n",
    "\n",
    "# Get the cluster labels for each data point\n",
    "cluster_labels = kmeans.labels_\n",
    "\n",
    "# Get the centroids of the clusters\n",
    "centroids = kmeans.cluster_centers_\n",
    "\n",
    "# Print the cluster labels for each data point\n",
    "print(\"Cluster Labels:\", cluster_labels)\n",
    "\n",
    "# Print the centroids of the clusters\n",
    "print(\"Centroids:\", centroids)\n"
   ]
  },
  {
   "cell_type": "code",
   "execution_count": 14,
   "metadata": {},
   "outputs": [
    {
     "name": "stdout",
     "output_type": "stream",
     "text": [
      "Cluster Labels: [1 2 0 ... 1 2 0]\n",
      "Centroids: [[ 6.41447480e+01 -7.62711912e+01  1.67985919e+02  3.47859758e+01\n",
      "  -1.01907618e+04  9.56447480e+02  1.02322642e+03 -2.67989299e+01]\n",
      " [-1.17069021e+02  1.62310594e+02  5.22787587e+01 -5.22148208e+01\n",
      "   1.20041188e+04 -1.56960888e+03 -1.97896094e+03  3.38266453e+01]\n",
      " [ 4.14256932e+01 -6.89158189e+01 -1.70848394e+02  1.43323359e+01\n",
      "  -1.73100140e+03  4.93456812e+02  7.53047676e+02 -6.28665470e+00]]\n"
     ]
    }
   ],
   "source": [
    "from sklearn.cluster import KMeans\n",
    "\n",
    "# Assuming X contains your data\n",
    "# Replace X with your actual data matrix\n",
    "\n",
    "# Initialize KMeans with the number of clusters you want to create\n",
    "kmeans = KMeans(n_clusters=3, random_state=42)\n",
    "\n",
    "# Fit KMeans to the data\n",
    "kmeans.fit(df)\n",
    "\n",
    "# Get the cluster labels for each data point\n",
    "cluster_labels = kmeans.labels_\n",
    "\n",
    "# Get the centroids of the clusters\n",
    "centroids = kmeans.cluster_centers_\n",
    "\n",
    "# Print the cluster labels for each data point\n",
    "print(\"Cluster Labels:\", cluster_labels)\n",
    "\n",
    "# Print the centroids of the clusters\n",
    "print(\"Centroids:\", centroids)\n"
   ]
  },
  {
   "cell_type": "code",
   "execution_count": 15,
   "metadata": {},
   "outputs": [
    {
     "name": "stdout",
     "output_type": "stream",
     "text": [
      "       CH1   CH2    CH3  CH4    CH5   CH6   CH7  CH8  predicted_label\n",
      "10711  104  -181   2454  -13  -2894   304  2568   -5                2\n",
      "7496   -92   234  -2430  -62  13825  -129 -2361  -24                1\n",
      "7841   -71   140   -430  -74   5365  -152 -1306  -42                1\n",
      "5714    99   -63   3442  -17  -1743   996   816  -33                2\n",
      "6181   -82   195    267  -86  12841 -3514 -2919  -36                1\n",
      "11024  -31   138   5403  -47   6909  -172 -2415    0                1\n",
      "8688  -245 -1993    158  128   1319  -112 -1466  -15                2\n",
      "8318     4   403  -1558  -13  -5754  -183 -1074   -1                2\n",
      "9682   -17   -66    836  -12   3857  -146  -874   -5                2\n",
      "9285   113   -44   -799   37    415   379  3560    5                2\n",
      "9913  -149   453     89 -107  15010   -75 -3131  -64                1\n",
      "10605   91  -136    562   62 -10481   133  1897    8                0\n",
      "4716    43   209  -3847   -4  -3353 -1324  -746   70                2\n",
      "9663  -201   157   3695  -17  10044  -152 -2480    0                1\n",
      "7534   122  -133    244   56  -3827   371  3216   11                2\n",
      "5467  -112  1224  -1029   31 -12572  1756  1548    3                0\n",
      "2142    12   123    196   73  -8515  2940  2130 -141                0\n",
      "304     31     0      1  -11   6148  -211  -230    9                1\n",
      "7631   -24   128  -4500   -9   6379   -72   404    4                1\n",
      "11508  -55   330  10053  -54  10513   -98 -1570  -28                1\n"
     ]
    }
   ],
   "source": [
    "random_sample = df.sample(n=20, random_state=42)\n",
    "X_random_sample = random_sample\n",
    "\n",
    "predicted_labels = kmeans.predict(X_random_sample)\n",
    "\n",
    "# Add the predicted labels to the random sample DataFrame\n",
    "random_sample['predicted_label'] = predicted_labels\n",
    "\n",
    "# Print the random sample DataFrame with predicted labels\n",
    "print(random_sample)"
   ]
  },
  {
   "cell_type": "code",
   "execution_count": 17,
   "metadata": {},
   "outputs": [
    {
     "data": {
      "text/plain": [
       "<AxesSubplot:xlabel='predicted_label', ylabel='count'>"
      ]
     },
     "execution_count": 17,
     "metadata": {},
     "output_type": "execute_result"
    },
    {
     "data": {
      "image/png": "[encoded data removed]",
      "text/plain": [
       "<Figure size 640x480 with 1 Axes>"
      ]
     },
     "metadata": {},
     "output_type": "display_data"
    }
   ],
   "source": [
    "import seaborn as sns \n",
    "sns.countplot(random_sample, x=\"predicted_label\")"
   ]
  },
  {
   "cell_type": "code",
   "execution_count": 18,
   "metadata": {},
   "outputs": [
    {
     "name": "stdout",
     "output_type": "stream",
     "text": [
      "Cluster Labels: [0 1 1 ... 0 1 1]\n",
      "Centroids: [[ -106.49644087   147.05809414    23.49965557   -48.6293915\n",
      "  10820.46613088 -1445.70332951 -1828.88863375    29.31595867]\n",
      " [   58.08896439   -81.79627532   -20.99760916    26.67358752\n",
      "  -5928.85856298   792.61155153  1003.64401661   -16.09475274]]\n"
     ]
    }
   ],
   "source": [
    "from sklearn.cluster import KMeans\n",
    "\n",
    "# Assuming X contains your data\n",
    "# Replace X with your actual data matrix\n",
    "\n",
    "# Initialize KMeans with the number of clusters you want to create\n",
    "kmeans = KMeans(n_clusters=2, random_state=42)\n",
    "\n",
    "# Fit KMeans to the data\n",
    "kmeans.fit(df)\n",
    "\n",
    "# Get the cluster labels for each data point\n",
    "cluster_labels = kmeans.labels_\n",
    "\n",
    "# Get the centroids of the clusters\n",
    "centroids = kmeans.cluster_centers_\n",
    "\n",
    "# Print the cluster labels for each data point\n",
    "print(\"Cluster Labels:\", cluster_labels)\n",
    "\n",
    "# Print the centroids of the clusters\n",
    "print(\"Centroids:\", centroids)\n"
   ]
  },
  {
   "cell_type": "code",
   "execution_count": 22,
   "metadata": {},
   "outputs": [
    {
     "data": {
      "text/plain": [
       "<AxesSubplot:xlabel='predicted_label', ylabel='count'>"
      ]
     },
     "execution_count": 22,
     "metadata": {},
     "output_type": "execute_result"
    },
    {
     "data": {
      "image/png": "[encoded data removed]",
      "text/plain": [
       "<Figure size 640x480 with 1 Axes>"
      ]
     },
     "metadata": {},
     "output_type": "display_data"
    }
   ],
   "source": [
    "# random_sample = df.sample(n=2000, random_state=42)\n",
    "# X_random_sample = random_sample\n",
    "\n",
    "predicted_labels = kmeans.predict(df)\n",
    "\n",
    "# Add the predicted labels to the random sample DataFrame\n",
    "df['predicted_label'] = predicted_labels\n",
    "\n",
    "# Print the random sample DataFrame with predicted labels\n",
    "# print(random_sample)\n",
    "sns.countplot(df, x=\"predicted_label\")"
   ]
  },
  {
   "cell_type": "code",
   "execution_count": 23,
   "metadata": {},
   "outputs": [
    {
     "data": {
      "text/plain": [
       "<AxesSubplot:xlabel='predicted_label', ylabel='count'>"
      ]
     },
     "execution_count": 23,
     "metadata": {},
     "output_type": "execute_result"
    },
    {
     "data": {
      "image/png": "[encoded data removed]",
      "text/plain": [
       "<Figure size 640x480 with 1 Axes>"
      ]
     },
     "metadata": {},
     "output_type": "display_data"
    }
   ],
   "source": [
    "from sklearn.cluster import KMeans\n",
    "\n",
    "# Assuming X contains your data\n",
    "# Replace X with your actual data matrix\n",
    "\n",
    "# Initialize KMeans with the number of clusters you want to create\n",
    "kmeans = KMeans(n_clusters=3, random_state=42)\n",
    "\n",
    "# Fit KMeans to the data\n",
    "kmeans.fit(df)\n",
    "\n",
    "# Get the cluster labels for each data point\n",
    "cluster_labels = kmeans.labels_\n",
    "\n",
    "# Get the centroids of the clusters\n",
    "centroids = kmeans.cluster_centers_\n",
    "\n",
    "# Print the cluster labels for each data point\n",
    "# random_sample = df.sample(n=2000, random_state=42)\n",
    "# X_random_sample = random_sample\n",
    "\n",
    "predicted_labels = kmeans.predict(df)\n",
    "\n",
    "# Add the predicted labels to the random sample DataFrame\n",
    "df['predicted_label'] = predicted_labels\n",
    "\n",
    "# Print the random sample DataFrame with predicted labels\n",
    "# print(random_sample)\n",
    "sns.countplot(df, x=\"predicted_label\")"
   ]
  }
 ],
 "metadata": {
  "kernelspec": {
   "display_name": "Python 3",
   "language": "python",
   "name": "python3"
  },
  "language_info": {
   "codemirror_mode": {
    "name": "ipython",
    "version": 3
   },
   "file_extension": ".py",
   "mimetype": "text/x-python",
   "name": "python",
   "nbconvert_exporter": "python",
   "pygments_lexer": "ipython3",
   "version": "3.10.11"
  }
 },
 "nbformat": 4,
 "nbformat_minor": 2
}
